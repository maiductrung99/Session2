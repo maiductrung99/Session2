{
 "cells": [
  {
   "cell_type": "code",
   "execution_count": 50,
   "metadata": {},
   "outputs": [],
   "source": [
    "import numpy as np\n",
    "\n",
    "from scipy.sparse import csr_matrix\n",
    "from sklearn.svm import LinearSVC\n",
    "from collections import defaultdict\n",
    "from tqdm import tqdm"
   ]
  },
  {
   "cell_type": "code",
   "execution_count": 51,
   "metadata": {},
   "outputs": [],
   "source": [
    "def load_data(data_path):\n",
    "    def sparse_to_dense(tf_idfs, vocab_size):\n",
    "    #đọc DL\n",
    "        r_d = [0.0 for _ in range(vocab_size)]\n",
    "        index_tfidfs = tf_idfs.split()\n",
    "        for index_tfidf in index_tfidfs:\n",
    "            index = int(index_tfidf.split(\":\")[0])\n",
    "            tfidf = float(index_tfidf.split(\":\")[1])\n",
    "            r_d[index] = tfidf\n",
    "        return r_d\n",
    "    with open(data_path, 'r') as f:\n",
    "        d_lines = f.read().splitlines()\n",
    "    with open('./datasets/20news-bydate/words_idfs.txt', 'r') as f:\n",
    "        vocab_size = len(f.read().splitlines())\n",
    "    labels = []\n",
    "    data = []\n",
    "    for d in d_lines:\n",
    "        features = d.split(\"<fff>\")\n",
    "        data.append(sparse_to_dense(tf_idfs=features[2], vocab_size=vocab_size))\n",
    "        labels.append(int(features[0]))\n",
    "    return data, labels"
   ]
  },
  {
   "cell_type": "code",
   "execution_count": 52,
   "metadata": {},
   "outputs": [],
   "source": [
    "def clustering_with_Kmeans():\n",
    "    data, labels = load_data (data_path = './datasets/20news-bydate/words_tf_idf.txt')\n",
    "    #sử dụng csr_matrix để tạo ma trận thưa với các hàng được phân chia rõ rệt\n",
    "    X= csr_matrix(data)\n",
    "    from sklearn.cluster import KMeans\n",
    "    kmean = KMeans(\n",
    "        n_clusters=20,\n",
    "        init='random',\n",
    "        n_init=5, #số lần kmeans chạy với những lần khởi tạo centroid khác nhau\n",
    "        tol= 1e-3, #ngưỡng tối thiểu cho độ giảm lỗi \n",
    "        random_state=2018\n",
    "    ).fit(X)\n",
    "    labels = kmean.labels_"
   ]
  },
  {
   "cell_type": "code",
   "execution_count": 53,
   "metadata": {},
   "outputs": [],
   "source": [
    "def compute_accuracy(predicted_Y, expected_Y):\n",
    "    matches = np.equal(predicted_Y, expected_Y)\n",
    "    accuracy = np.sum(matches.astype(float) / len(expected_Y))\n",
    "    return accuracy"
   ]
  },
  {
   "cell_type": "code",
   "execution_count": 54,
   "metadata": {},
   "outputs": [],
   "source": [
    "def classifying_with_linear_SVMs():\n",
    "    #dùng Sckit-learn cùng linear SVMs\n",
    "    train_X, train_y = load_data(data_path= './datasets/20news-bydate/20news-train-tfidf.txt')\n",
    "    classifier = LinearSVC(\n",
    "        C= 10.0, #penalty coeff\n",
    "        tol= 0.001, #Tolerance for stopping criteria.\n",
    "        verbose=True #whether prints out logs or not\n",
    "    )\n",
    "    classifier.fit(train_X, train_y)\n",
    "    test_X, test_y = load_data(data_path = './datasets/20news-bydate/20news-test-tfidf.txt')\n",
    "    predicted_y = classifier.predict(test_X)\n",
    "    accuracy = compute_accuracy(predicted_y = predicted_y, expected_y = test_y)\n",
    "    print('Accuracy: ', accuracy)\n"
   ]
  },
  {
   "cell_type": "code",
   "execution_count": null,
   "metadata": {},
   "outputs": [],
   "source": [
    "if __name__ == '__main__':\n",
    "    clustering_with_Kmeans()\n",
    "    classifying_with_linear_SVMs()"
   ]
  },
  {
   "cell_type": "code",
   "execution_count": null,
   "metadata": {},
   "outputs": [],
   "source": []
  }
 ],
 "metadata": {
  "kernelspec": {
   "display_name": "Python 3",
   "language": "python",
   "name": "python3"
  },
  "language_info": {
   "codemirror_mode": {
    "name": "ipython",
    "version": 3
   },
   "file_extension": ".py",
   "mimetype": "text/x-python",
   "name": "python",
   "nbconvert_exporter": "python",
   "pygments_lexer": "ipython3",
   "version": "3.8.2"
  }
 },
 "nbformat": 4,
 "nbformat_minor": 4
}
